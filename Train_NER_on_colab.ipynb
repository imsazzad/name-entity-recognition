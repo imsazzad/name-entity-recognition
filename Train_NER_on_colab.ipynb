{
  "nbformat": 4,
  "nbformat_minor": 0,
  "metadata": {
    "colab": {
      "name": "Train_NER _ lifebit.ipynb",
      "provenance": []
    },
    "kernelspec": {
      "name": "python3",
      "display_name": "Python 3"
    },
    "language_info": {
      "name": "python"
    },
    "accelerator": "GPU"
  },
  "cells": [
    {
      "cell_type": "code",
      "metadata": {
        "colab": {
          "base_uri": "https://localhost:8080/"
        },
        "id": "thy6EoS7AIKy",
        "outputId": "a83df017-0dd1-4cc6-8787-30146fb49c49"
      },
      "source": [
        "! git clone https://github.com/imsazzad/name-entity-recognition.git"
      ],
      "execution_count": 1,
      "outputs": [
        {
          "output_type": "stream",
          "name": "stdout",
          "text": [
            "fatal: destination path 'name-entity-recognition' already exists and is not an empty directory.\n"
          ]
        }
      ]
    },
    {
      "cell_type": "code",
      "metadata": {
        "colab": {
          "base_uri": "https://localhost:8080/"
        },
        "id": "iXVza-2uGILz",
        "outputId": "7d79e4c8-b3fa-48fa-f683-ccb0c96594d8"
      },
      "source": [
        "! cd name-entity-recognition && git pull"
      ],
      "execution_count": 2,
      "outputs": [
        {
          "output_type": "stream",
          "name": "stdout",
          "text": [
            "remote: Enumerating objects: 11, done.\u001b[K\n",
            "remote: Counting objects:   9% (1/11)\u001b[K\rremote: Counting objects:  18% (2/11)\u001b[K\rremote: Counting objects:  27% (3/11)\u001b[K\rremote: Counting objects:  36% (4/11)\u001b[K\rremote: Counting objects:  45% (5/11)\u001b[K\rremote: Counting objects:  54% (6/11)\u001b[K\rremote: Counting objects:  63% (7/11)\u001b[K\rremote: Counting objects:  72% (8/11)\u001b[K\rremote: Counting objects:  81% (9/11)\u001b[K\rremote: Counting objects:  90% (10/11)\u001b[K\rremote: Counting objects: 100% (11/11)\u001b[K\rremote: Counting objects: 100% (11/11), done.\u001b[K\n",
            "remote: Compressing objects:  20% (1/5)\u001b[K\rremote: Compressing objects:  40% (2/5)\u001b[K\rremote: Compressing objects:  60% (3/5)\u001b[K\rremote: Compressing objects:  80% (4/5)\u001b[K\rremote: Compressing objects: 100% (5/5)\u001b[K\rremote: Compressing objects: 100% (5/5), done.\u001b[K\n",
            "remote: Total 8 (delta 6), reused 5 (delta 3), pack-reused 0\u001b[K\n",
            "Unpacking objects:  12% (1/8)   \rUnpacking objects:  25% (2/8)   \rUnpacking objects:  37% (3/8)   \rUnpacking objects:  50% (4/8)   \rUnpacking objects:  62% (5/8)   \rUnpacking objects:  75% (6/8)   \rUnpacking objects:  87% (7/8)   \rUnpacking objects: 100% (8/8)   \rUnpacking objects: 100% (8/8), done.\n",
            "From https://github.com/imsazzad/name-entity-recognition\n",
            "   53131a0..6f676f0  dev        -> origin/dev\n",
            "Updating 53131a0..6f676f0\n",
            "Fast-forward\n",
            " app/train_ner.py | 2 \u001b[32m+\u001b[m\u001b[31m-\u001b[m\n",
            " 1 file changed, 1 insertion(+), 1 deletion(-)\n"
          ]
        }
      ]
    },
    {
      "cell_type": "code",
      "metadata": {
        "colab": {
          "base_uri": "https://localhost:8080/"
        },
        "id": "WG1bsgZqFtAl",
        "outputId": "f4c46fdc-0914-4c39-9749-e37ce6fcd9e2"
      },
      "source": [
        "! cd name-entity-recognition && git log"
      ],
      "execution_count": 3,
      "outputs": [
        {
          "output_type": "stream",
          "name": "stdout",
          "text": [
            "\u001b[33mcommit 6f676f07594de069064c5ecd9fa2b8e74ed049a0\u001b[m\u001b[33m (\u001b[m\u001b[1;36mHEAD -> \u001b[m\u001b[1;32mdev\u001b[m\u001b[33m, \u001b[m\u001b[1;31morigin/dev\u001b[m\u001b[33m, \u001b[m\u001b[1;31morigin/HEAD\u001b[m\u001b[33m)\u001b[m\n",
            "Author: sazzad <abdu.hasib@Infolytx.com>\n",
            "Date:   Sun Oct 10 19:49:10 2021 +0600\n",
            "\n",
            "    fed all for google colab fresh training\n",
            "\n",
            "\u001b[33mcommit 601ecd337c8355546e3887890f3251880511a016\u001b[m\n",
            "Author: sazzad <abdu.hasib@Infolytx.com>\n",
            "Date:   Sun Oct 10 19:47:48 2021 +0600\n",
            "\n",
            "    changed model to None for google colab fresh training\n",
            "\n",
            "\u001b[33mcommit 53131a0f8e9c5a6e66e675a48f7ff84dd8b0546f\u001b[m\n",
            "Author: sazzad <abdu.hasib@Infolytx.com>\n",
            "Date:   Sun Oct 10 19:30:57 2021 +0600\n",
            "\n",
            "    - saved best model in each iteration\n",
            "    - added feature \"resume from previously saved model\"\n",
            "\n",
            "\u001b[33mcommit 698bd037dd0e4ebf5bf0ffb0b16ee236605a1f4e\u001b[m\n",
            "Author: sazzad <abdu.hasib@Infolytx.com>\n",
            "Date:   Sun Oct 10 19:05:03 2021 +0600\n",
            "\n",
            "    printed length of training data\n",
            "\n",
            "\u001b[33mcommit 9e2171931e5142e85d008a250befe54ed356d900\u001b[m\n",
            "Author: sazzad <abdu.hasib@Infolytx.com>\n",
            "Date:   Sun Oct 10 19:03:45 2021 +0600\n",
            "\n",
            "    updated Readme.md\n",
            "\n",
            "\u001b[33mcommit a638cad60e4ddb6e12909e51811cf5aedbdae1c5\u001b[m\n",
            "Author: sazzad <abdu.hasib@Infolytx.com>\n",
            "Date:   Sun Oct 10 18:58:56 2021 +0600\n",
            "\n",
            "    loaded model from best model to check performance\n",
            "\n",
            "\u001b[33mcommit e26c8c255af7e57aaf47594d9895c20e3ff4e9ac\u001b[m\n",
            "Author: sazzad <abdu.hasib@Infolytx.com>\n",
            "Date:   Sun Oct 10 18:55:03 2021 +0600\n",
            "\n",
            "    added files in gitignore\n",
            "\n",
            "\u001b[33mcommit 4380ae6e4b7194aa2ec9624beb6de8a130ebe6bd\u001b[m\n",
            "Author: sazzad <abdu.hasib@Infolytx.com>\n",
            "Date:   Sun Oct 10 18:52:32 2021 +0600\n",
            "\n",
            "    added best model\n",
            "\n",
            "\u001b[33mcommit e88c9f36478f88ad46e2b14a446054505233ee19\u001b[m\n",
            "Author: sazzad <abdu.hasib@Infolytx.com>\n",
            "Date:   Sun Oct 10 18:03:33 2021 +0600\n",
            "\n",
            "    added gpu configuration for spacy if gpu is available\n",
            "\n",
            "\u001b[33mcommit 9e94036b19cd2fe74ba5fd5d082bf6aaf896ef53\u001b[m\n",
            "Author: sazzad <abdu.hasib@Infolytx.com>\n",
            "Date:   Sun Oct 10 17:27:49 2021 +0600\n",
            "\n",
            "    removed slicing data code\n",
            "\n",
            "\u001b[33mcommit 2d3187ac46b4b1187e366b1d80feeb0ad04b239f\u001b[m\n",
            "Author: sazzad <abdu.hasib@Infolytx.com>\n",
            "Date:   Sun Oct 10 17:24:24 2021 +0600\n",
            "\n",
            "    update gitignore not to track unnecessary file\n",
            "\n",
            "\u001b[33mcommit a0b66b73e657bb6659dc7e4d17eb1bfa7bd12c65\u001b[m\n",
            "Author: sazzad <abdu.hasib@Infolytx.com>\n",
            "Date:   Sun Oct 10 17:23:14 2021 +0600\n",
            "\n",
            "    added evaluation scripts to test ner model\n",
            "\n",
            "\u001b[33mcommit be4edc7418c38fd11076eb03a81210f3c766eb4b\u001b[m\n",
            "Author: sazzad <abdu.hasib@Infolytx.com>\n",
            "Date:   Sun Oct 10 17:22:50 2021 +0600\n",
            "\n",
            "    added app.init\n",
            "\n",
            "\u001b[33mcommit a1cbc30f29b7683aa84917098c3049a703a330c3\u001b[m\n",
            "Author: sazzad <abdu.hasib@Infolytx.com>\n",
            "Date:   Sun Oct 10 17:22:31 2021 +0600\n",
            "\n",
            "    added training scripts for ner\n",
            "\n",
            "\u001b[33mcommit f898be9d283f727db8f3cf6f506a14b7a4e8098c\u001b[m\n",
            "Author: sazzad <abdu.hasib@Infolytx.com>\n",
            "Date:   Sun Oct 10 17:01:28 2021 +0600\n",
            "\n",
            "    added trained model for future evaluation\n",
            "\n",
            "\u001b[33mcommit 5728d0dd8badf3c53714e8b44717c661179d78a0\u001b[m\n",
            "Author: sazzad <abdu.hasib@Infolytx.com>\n",
            "Date:   Sun Oct 10 16:59:05 2021 +0600\n",
            "\n",
            "    added unit test the converter scripts\n",
            "\n",
            "\u001b[33mcommit 0d507b21bf5ab6713421048ce8ebd345716d6905\u001b[m\n",
            "Author: sazzad <abdu.hasib@Infolytx.com>\n",
            "Date:   Sun Oct 10 16:58:18 2021 +0600\n",
            "\n",
            "    added converted to convert training data to spacy format.\n",
            "\n",
            "\u001b[33mcommit c623b3542b774dfa9d6a74316c66661ebe1b29ea\u001b[m\n",
            "Author: sazzad <abdu.hasib@Infolytx.com>\n",
            "Date:   Sun Oct 10 16:56:52 2021 +0600\n",
            "\n",
            "    added train and test data\n",
            "\n",
            "\u001b[33mcommit 1b1473f95867c890726c43fe46faa4aed37ef135\u001b[m\n",
            "Author: sazzad <abdu.hasib@Infolytx.com>\n",
            "Date:   Sun Oct 10 16:56:34 2021 +0600\n",
            "\n",
            "    added requirement.txt\n",
            "\n",
            "\u001b[33mcommit c22ec0000139a879a058be77cc8cdfe4af1ffa5e\u001b[m\n",
            "Author: sazzad <abdu.hasib@Infolytx.com>\n",
            "Date:   Sun Oct 10 16:55:59 2021 +0600\n",
            "\n",
            "    added readme documentation\n",
            "\n",
            "\u001b[33mcommit cd24b57709c5feb609423b048c455d4eff9477b2\u001b[m\n",
            "Author: sazzad <abdu.hasib@Infolytx.com>\n",
            "Date:   Sun Oct 10 16:55:25 2021 +0600\n",
            "\n",
            "    added gitignore\n"
          ]
        }
      ]
    },
    {
      "cell_type": "code",
      "metadata": {
        "colab": {
          "base_uri": "https://localhost:8080/"
        },
        "id": "RWHAdkZMASJk",
        "outputId": "bd814cfb-4911-4811-aaeb-5acf3160b89a"
      },
      "source": [
        "! cd name-entity-recognition && pwd"
      ],
      "execution_count": 4,
      "outputs": [
        {
          "output_type": "stream",
          "name": "stdout",
          "text": [
            "/content/name-entity-recognition\n"
          ]
        }
      ]
    },
    {
      "cell_type": "code",
      "metadata": {
        "colab": {
          "base_uri": "https://localhost:8080/"
        },
        "id": "onPHBH5bAeIy",
        "outputId": "d7204a9b-f72e-4e9d-b780-600aa9778e11"
      },
      "source": [
        "! cd name-entity-recognition && pip install -r requirements.txt "
      ],
      "execution_count": 5,
      "outputs": [
        {
          "output_type": "stream",
          "name": "stdout",
          "text": [
            "Requirement already satisfied: spacy==3.1.3 in /usr/local/lib/python3.7/dist-packages (from -r requirements.txt (line 1)) (3.1.3)\n",
            "Requirement already satisfied: packaging>=20.0 in /usr/local/lib/python3.7/dist-packages (from spacy==3.1.3->-r requirements.txt (line 1)) (21.0)\n",
            "Requirement already satisfied: cymem<2.1.0,>=2.0.2 in /usr/local/lib/python3.7/dist-packages (from spacy==3.1.3->-r requirements.txt (line 1)) (2.0.5)\n",
            "Requirement already satisfied: pydantic!=1.8,!=1.8.1,<1.9.0,>=1.7.4 in /usr/local/lib/python3.7/dist-packages (from spacy==3.1.3->-r requirements.txt (line 1)) (1.8.2)\n",
            "Requirement already satisfied: typing-extensions<4.0.0.0,>=3.7.4 in /usr/local/lib/python3.7/dist-packages (from spacy==3.1.3->-r requirements.txt (line 1)) (3.7.4.3)\n",
            "Requirement already satisfied: preshed<3.1.0,>=3.0.2 in /usr/local/lib/python3.7/dist-packages (from spacy==3.1.3->-r requirements.txt (line 1)) (3.0.5)\n",
            "Requirement already satisfied: catalogue<2.1.0,>=2.0.6 in /usr/local/lib/python3.7/dist-packages (from spacy==3.1.3->-r requirements.txt (line 1)) (2.0.6)\n",
            "Requirement already satisfied: requests<3.0.0,>=2.13.0 in /usr/local/lib/python3.7/dist-packages (from spacy==3.1.3->-r requirements.txt (line 1)) (2.23.0)\n",
            "Requirement already satisfied: thinc<8.1.0,>=8.0.9 in /usr/local/lib/python3.7/dist-packages (from spacy==3.1.3->-r requirements.txt (line 1)) (8.0.10)\n",
            "Requirement already satisfied: blis<0.8.0,>=0.4.0 in /usr/local/lib/python3.7/dist-packages (from spacy==3.1.3->-r requirements.txt (line 1)) (0.4.1)\n",
            "Requirement already satisfied: tqdm<5.0.0,>=4.38.0 in /usr/local/lib/python3.7/dist-packages (from spacy==3.1.3->-r requirements.txt (line 1)) (4.62.3)\n",
            "Requirement already satisfied: srsly<3.0.0,>=2.4.1 in /usr/local/lib/python3.7/dist-packages (from spacy==3.1.3->-r requirements.txt (line 1)) (2.4.1)\n",
            "Requirement already satisfied: murmurhash<1.1.0,>=0.28.0 in /usr/local/lib/python3.7/dist-packages (from spacy==3.1.3->-r requirements.txt (line 1)) (1.0.5)\n",
            "Requirement already satisfied: wasabi<1.1.0,>=0.8.1 in /usr/local/lib/python3.7/dist-packages (from spacy==3.1.3->-r requirements.txt (line 1)) (0.8.2)\n",
            "Requirement already satisfied: typer<0.5.0,>=0.3.0 in /usr/local/lib/python3.7/dist-packages (from spacy==3.1.3->-r requirements.txt (line 1)) (0.4.0)\n",
            "Requirement already satisfied: numpy>=1.15.0 in /usr/local/lib/python3.7/dist-packages (from spacy==3.1.3->-r requirements.txt (line 1)) (1.19.5)\n",
            "Requirement already satisfied: setuptools in /usr/local/lib/python3.7/dist-packages (from spacy==3.1.3->-r requirements.txt (line 1)) (57.4.0)\n",
            "Requirement already satisfied: spacy-legacy<3.1.0,>=3.0.8 in /usr/local/lib/python3.7/dist-packages (from spacy==3.1.3->-r requirements.txt (line 1)) (3.0.8)\n",
            "Requirement already satisfied: pathy>=0.3.5 in /usr/local/lib/python3.7/dist-packages (from spacy==3.1.3->-r requirements.txt (line 1)) (0.6.0)\n",
            "Requirement already satisfied: jinja2 in /usr/local/lib/python3.7/dist-packages (from spacy==3.1.3->-r requirements.txt (line 1)) (2.11.3)\n",
            "Requirement already satisfied: zipp>=0.5 in /usr/local/lib/python3.7/dist-packages (from catalogue<2.1.0,>=2.0.6->spacy==3.1.3->-r requirements.txt (line 1)) (3.6.0)\n",
            "Requirement already satisfied: pyparsing>=2.0.2 in /usr/local/lib/python3.7/dist-packages (from packaging>=20.0->spacy==3.1.3->-r requirements.txt (line 1)) (2.4.7)\n",
            "Requirement already satisfied: smart-open<6.0.0,>=5.0.0 in /usr/local/lib/python3.7/dist-packages (from pathy>=0.3.5->spacy==3.1.3->-r requirements.txt (line 1)) (5.2.1)\n",
            "Requirement already satisfied: urllib3!=1.25.0,!=1.25.1,<1.26,>=1.21.1 in /usr/local/lib/python3.7/dist-packages (from requests<3.0.0,>=2.13.0->spacy==3.1.3->-r requirements.txt (line 1)) (1.24.3)\n",
            "Requirement already satisfied: idna<3,>=2.5 in /usr/local/lib/python3.7/dist-packages (from requests<3.0.0,>=2.13.0->spacy==3.1.3->-r requirements.txt (line 1)) (2.10)\n",
            "Requirement already satisfied: certifi>=2017.4.17 in /usr/local/lib/python3.7/dist-packages (from requests<3.0.0,>=2.13.0->spacy==3.1.3->-r requirements.txt (line 1)) (2021.5.30)\n",
            "Requirement already satisfied: chardet<4,>=3.0.2 in /usr/local/lib/python3.7/dist-packages (from requests<3.0.0,>=2.13.0->spacy==3.1.3->-r requirements.txt (line 1)) (3.0.4)\n",
            "Requirement already satisfied: click<9.0.0,>=7.1.1 in /usr/local/lib/python3.7/dist-packages (from typer<0.5.0,>=0.3.0->spacy==3.1.3->-r requirements.txt (line 1)) (7.1.2)\n",
            "Requirement already satisfied: MarkupSafe>=0.23 in /usr/local/lib/python3.7/dist-packages (from jinja2->spacy==3.1.3->-r requirements.txt (line 1)) (2.0.1)\n"
          ]
        }
      ]
    },
    {
      "cell_type": "code",
      "metadata": {
        "colab": {
          "base_uri": "https://localhost:8080/"
        },
        "id": "Rljbz_BSAujL",
        "outputId": "353738e0-2223-46ac-c67e-ebeb74935ac8"
      },
      "source": [
        "! cd name-entity-recognition && python -m spacy info"
      ],
      "execution_count": 6,
      "outputs": [
        {
          "output_type": "stream",
          "name": "stdout",
          "text": [
            "\u001b[1m\n",
            "============================== Info about spaCy ==============================\u001b[0m\n",
            "\n",
            "spaCy version    3.1.3                         \n",
            "Location         /usr/local/lib/python3.7/dist-packages/spacy\n",
            "Platform         Linux-5.4.104+-x86_64-with-Ubuntu-18.04-bionic\n",
            "Python version   3.7.12                        \n",
            "Pipelines                                      \n",
            "\n"
          ]
        }
      ]
    },
    {
      "cell_type": "code",
      "metadata": {
        "colab": {
          "base_uri": "https://localhost:8080/"
        },
        "id": "hMbFmMmbA6il",
        "outputId": "ffbbde18-ce3b-492c-a997-6d0289f20533"
      },
      "source": [
        "! cd name-entity-recognition && python app/train_ner.py -f lifebit-nlp-data/train.pkl -d app/model/"
      ],
      "execution_count": null,
      "outputs": [
        {
          "output_type": "stream",
          "name": "stdout",
          "text": [
            "length of training data 234556\n",
            "INFO:root:These are all levels\n",
            "INFO:root:['', 'B-Regulon-operon', 'B-Cell', 'B-Gene_or_gene_product', 'I-Amino_acid', 'B-Cellular_component', 'I-Anatomical_system', 'I-Cellular_component', 'B-Anatomical_system', 'I-Simple_chemical', 'B-GGP', 'I-Complex', 'B-SO', 'I-Pathological_formation', 'B-CHEBI', 'B-Chemical', 'I-Multi-tissue_structure', 'I-Protein', 'B-Cancer', 'I-Immaterial_anatomical_entity', 'I-Tissue', 'I-Organ', 'B-Complex', 'I-Anatomy', 'I-GO', 'B-Organ', 'B-Organism', 'B-NCBITaxon', 'B-Developing_anatomical_structure', 'B-Protein', 'I-Organism', 'I-Taxon', 'I-GGP', 'B-Pathological_formation', 'I-CL', 'I-Cell', 'I-Gene_or_gene_product', 'B-GO', 'I-Developing_anatomical_structure', 'B-Simple_chemical', 'B-Tissue', 'I-CHEBI', 'B-Anatomy', 'B-CL', 'B-Species', 'B-Amino_acid', 'I-NCBITaxon', 'I-Cancer', 'B-Multi-tissue_structure', 'B-Organism_subdivision', 'I-Disease', 'I-Regulon-operon', 'I-GENE', 'B-Organism_substance', 'B-GENE', 'B-Taxon', 'B-Disease', 'I-Chemical', 'I-SO', 'I-Species', 'I-Organism_subdivision', 'B-Immaterial_anatomical_entity', 'I-Organism_substance']\n",
            "INFO:root:Created blank 'en' model\n",
            "[2021-10-10 13:50:21,196] [INFO] Created vocabulary\n",
            "INFO:spacy:Created vocabulary\n",
            "[2021-10-10 13:50:21,198] [INFO] Finished initializing nlp object\n",
            "INFO:spacy:Finished initializing nlp object\n"
          ]
        }
      ]
    },
    {
      "cell_type": "code",
      "metadata": {
        "id": "6CSKb5a2BNEP"
      },
      "source": [
        ""
      ],
      "execution_count": null,
      "outputs": []
    }
  ]
}